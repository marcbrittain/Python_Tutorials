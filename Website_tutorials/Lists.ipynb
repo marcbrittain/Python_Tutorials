{
 "cells": [
  {
   "cell_type": "markdown",
   "metadata": {},
   "source": [
    "# Welcome to Part 2 of Data Structures on Lists!"
   ]
  },
  {
   "cell_type": "markdown",
   "metadata": {},
   "source": [
    "**Part 2.) Lists**\n",
    "\n",
    "Characteristics of Lists:\n",
    "* Lists are mutable\n",
    "* A list can contain strings, integers, and floats\n",
    "* Lists allow many new functions that are not allowed in strings "
   ]
  },
  {
   "cell_type": "code",
   "execution_count": 2,
   "metadata": {
    "collapsed": true
   },
   "outputs": [],
   "source": [
    "# to create a list the notation is using the brackets [ ]\n",
    "\n",
    "# to have more than one entry in the list, a comma ',' is used to seperate entries\n",
    "\n",
    "# let's create a list of integers\n",
    "\n",
    "lst = [1,2,3,4,5,6,7,8,9]"
   ]
  },
  {
   "cell_type": "code",
   "execution_count": 4,
   "metadata": {
    "collapsed": false
   },
   "outputs": [
    {
     "name": "stdout",
     "output_type": "stream",
     "text": [
      "the data type of lst is:  <type 'list'>\n"
     ]
    }
   ],
   "source": [
    "# let's check the type\n",
    "\n",
    "print 'the data type of lst is: ',type(lst)"
   ]
  },
  {
   "cell_type": "markdown",
   "metadata": {},
   "source": [
    "Just like we thought, python interprets lst as a list. Lists also support the same style of slicing that was used in strings. The only difference is the index take the form of the object that is in the list"
   ]
  },
  {
   "cell_type": "code",
   "execution_count": 6,
   "metadata": {
    "collapsed": false
   },
   "outputs": [
    {
     "data": {
      "text/plain": [
       "1"
      ]
     },
     "execution_count": 6,
     "metadata": {},
     "output_type": "execute_result"
    }
   ],
   "source": [
    "# here is a single index\n",
    "lst[0]"
   ]
  },
  {
   "cell_type": "code",
   "execution_count": 7,
   "metadata": {
    "collapsed": false
   },
   "outputs": [
    {
     "data": {
      "text/plain": [
       "[4, 5, 6]"
      ]
     },
     "execution_count": 7,
     "metadata": {},
     "output_type": "execute_result"
    }
   ],
   "source": [
    "# we see that it returned the value for that position in the list\n",
    "\n",
    "# what about slicing more entries in the list?\n",
    "\n",
    "lst[3:6]"
   ]
  },
  {
   "cell_type": "markdown",
   "metadata": {},
   "source": [
    "Here we can see that slicing lists is very similar to that of strings. Let's now raise the question of what happens when you have a list of strings and want to slice the string itself."
   ]
  },
  {
   "cell_type": "code",
   "execution_count": 8,
   "metadata": {
    "collapsed": true
   },
   "outputs": [],
   "source": [
    "# Time to create the list\n",
    "\n",
    "list_of_strings = ['hello', 'this', 'is', 'still', 'a', 'list', 'not', 'a', 'string']"
   ]
  },
  {
   "cell_type": "code",
   "execution_count": 9,
   "metadata": {
    "collapsed": false
   },
   "outputs": [
    {
     "data": {
      "text/plain": [
       "'hello'"
      ]
     },
     "execution_count": 9,
     "metadata": {},
     "output_type": "execute_result"
    }
   ],
   "source": [
    "# let's look at index [0]\n",
    "\n",
    "list_of_strings[0]"
   ]
  },
  {
   "cell_type": "markdown",
   "metadata": {},
   "source": [
    "We see that index 0 returned an element of the list which turned out to be a string. If we want to slice the string itself, that is also allowed."
   ]
  },
  {
   "cell_type": "code",
   "execution_count": 10,
   "metadata": {
    "collapsed": false
   },
   "outputs": [
    {
     "data": {
      "text/plain": [
       "'llo'"
      ]
     },
     "execution_count": 10,
     "metadata": {},
     "output_type": "execute_result"
    }
   ],
   "source": [
    "# there are 2 ways to go about solving this issue. \n",
    "# The first way is to create a new variable that takes the form of the string and slice the string like before\n",
    "# the second way is slicing the string and the list at the same time\n",
    "\n",
    "list_of_strings[0][2:]"
   ]
  },
  {
   "cell_type": "markdown",
   "metadata": {},
   "source": [
    "Here we can see that python first went to the 0 index of list_of_strings which was the string 'hello'. From there it then sliced the string 'hello' from index 2 until the end. That is seen from 'llo'."
   ]
  },
  {
   "cell_type": "markdown",
   "metadata": {},
   "source": [
    "Lists also follow the same convention in 'for' loops as in strings where each interation is a different element of the list"
   ]
  },
  {
   "cell_type": "code",
   "execution_count": 11,
   "metadata": {
    "collapsed": false
   },
   "outputs": [
    {
     "name": "stdout",
     "output_type": "stream",
     "text": [
      "hello\n",
      "this\n",
      "is\n",
      "still\n",
      "a\n",
      "list\n",
      "not\n",
      "a\n",
      "string\n"
     ]
    }
   ],
   "source": [
    "# print each entry of the list on a new line\n",
    "\n",
    "for i in list_of_strings:     # i takes the form of each index in the list\n",
    "    print i "
   ]
  },
  {
   "cell_type": "code",
   "execution_count": 12,
   "metadata": {
    "collapsed": false
   },
   "outputs": [
    {
     "name": "stdout",
     "output_type": "stream",
     "text": [
      "lo\n",
      "is\n",
      "is\n",
      "ll\n",
      "a\n",
      "st\n",
      "ot\n",
      "a\n",
      "ng\n"
     ]
    }
   ],
   "source": [
    "# each entry was printed. What if we only want to see the last 2 character in each string?\n",
    "\n",
    "for i in list_of_strings:\n",
    "    print i[-2:]"
   ]
  },
  {
   "cell_type": "markdown",
   "metadata": {},
   "source": [
    "We can see from the above example that i takes the same form as the example earlier when we were looking at list_of_strings[0]. i in this example is the string in the list and can be sliced as such."
   ]
  },
  {
   "cell_type": "code",
   "execution_count": 13,
   "metadata": {
    "collapsed": true
   },
   "outputs": [],
   "source": [
    "# Let's look at the same example but this time let's say we want to take the last 2 characters in each string\n",
    "# and insert them into a new list \n",
    "\n",
    "# here we have to first create the new list that we want to add the entries to\n",
    "new_list = []\n",
    "for i in list_of_strings:\n",
    "    new_list.append(i[-2:])  # remember how with strings we concatenated with '+' here we can use the append function\n",
    "                             # append adds the new entry to the end of the list\n",
    "    "
   ]
  },
  {
   "cell_type": "code",
   "execution_count": 14,
   "metadata": {
    "collapsed": false
   },
   "outputs": [
    {
     "data": {
      "text/plain": [
       "['lo', 'is', 'is', 'll', 'a', 'st', 'ot', 'a', 'ng']"
      ]
     },
     "execution_count": 14,
     "metadata": {},
     "output_type": "execute_result"
    }
   ],
   "source": [
    "# here is what new list looks like\n",
    "\n",
    "new_list"
   ]
  },
  {
   "cell_type": "markdown",
   "metadata": {},
   "source": [
    "One of the main features of lists is the ability to mutate entries in the list itself."
   ]
  },
  {
   "cell_type": "code",
   "execution_count": 15,
   "metadata": {
    "collapsed": true
   },
   "outputs": [],
   "source": [
    "# let's look back at our original list\n",
    "\n",
    "# this time we will change the entry 'hello' to 'bonjour'\n",
    "\n",
    "# call the index that you want to change\n",
    "\n",
    "list_of_strings[0] = 'bonjour'"
   ]
  },
  {
   "cell_type": "code",
   "execution_count": 16,
   "metadata": {
    "collapsed": false
   },
   "outputs": [
    {
     "data": {
      "text/plain": [
       "['bonjour', 'this', 'is', 'still', 'a', 'list', 'not', 'a', 'string']"
      ]
     },
     "execution_count": 16,
     "metadata": {},
     "output_type": "execute_result"
    }
   ],
   "source": [
    "# time to see if the list was changed\n",
    "\n",
    "list_of_strings"
   ]
  },
  {
   "cell_type": "markdown",
   "metadata": {},
   "source": [
    "It worked! This feature is what sets lists apart from strings. The ability to mutate lists and change features is beneficial because it eliminates the need to create an entirely new list."
   ]
  },
  {
   "cell_type": "markdown",
   "metadata": {},
   "source": [
    "Lists also contain built in function such as count (counts the number of a given value in the list), sort (sorts values in list by a given parameter), and many more. To see the different features that lists support, you must first define your list. From there you call your list, add a '.' at the end and then hit the 'tab' key. This should bring up a menu that shows the different tools you have to work with. "
   ]
  },
  {
   "cell_type": "code",
   "execution_count": 17,
   "metadata": {
    "collapsed": true
   },
   "outputs": [],
   "source": [
    "# here is an example of how to see the different functions\n",
    "# please note that my code will be commented since I am not executing anything, but just providing the example\n",
    "\n",
    "# list_of_strings.\n",
    "\n",
    "# once the above is typed with the '.' then you will be able to hit the 'tab' key and see the functions.\n",
    "# just don't forget to uncomment the code if you are following along!"
   ]
  },
  {
   "cell_type": "code",
   "execution_count": 21,
   "metadata": {
    "collapsed": false
   },
   "outputs": [
    {
     "data": {
      "text/plain": [
       "1"
      ]
     },
     "execution_count": 21,
     "metadata": {},
     "output_type": "execute_result"
    }
   ],
   "source": [
    "# Let's try out the count function and the sort function for ourselves\n",
    "\n",
    "list_of_strings.count('bonjour')"
   ]
  },
  {
   "cell_type": "code",
   "execution_count": 22,
   "metadata": {
    "collapsed": true
   },
   "outputs": [],
   "source": [
    "# We can see that 'bonjour' only occurred once as expected. Let's create a new list of number and try the sort function.\n",
    "\n",
    "number_list = [32,45,21,56,98,87,88,15,16,32,101,1000,980,200,210,300,310,330,450,550,737,811]"
   ]
  },
  {
   "cell_type": "code",
   "execution_count": 23,
   "metadata": {
    "collapsed": true
   },
   "outputs": [],
   "source": [
    "# time to sort the list least to greatest\n",
    "\n",
    "# to do this call the function sort with open and closed parenthesis, this implements the function.\n",
    "# even if you are not inserting anything in the parenthesis it still must be used\n",
    "number_list.sort()"
   ]
  },
  {
   "cell_type": "code",
   "execution_count": 24,
   "metadata": {
    "collapsed": false
   },
   "outputs": [
    {
     "data": {
      "text/plain": [
       "[15,\n",
       " 16,\n",
       " 21,\n",
       " 32,\n",
       " 32,\n",
       " 45,\n",
       " 56,\n",
       " 87,\n",
       " 88,\n",
       " 98,\n",
       " 101,\n",
       " 200,\n",
       " 210,\n",
       " 300,\n",
       " 310,\n",
       " 330,\n",
       " 450,\n",
       " 550,\n",
       " 737,\n",
       " 811,\n",
       " 980,\n",
       " 1000]"
      ]
     },
     "execution_count": 24,
     "metadata": {},
     "output_type": "execute_result"
    }
   ],
   "source": [
    "# here is the sorted list\n",
    "\n",
    "number_list"
   ]
  },
  {
   "cell_type": "code",
   "execution_count": 25,
   "metadata": {
    "collapsed": true
   },
   "outputs": [],
   "source": [
    "# we now see that it was sorted from smallest to largest, but what if we wanted it largest to smallest?\n",
    "# python is nice because all we have to do is add in reverse=True inside the parenthesis for it to work\n",
    "\n",
    "number_list.sort(reverse=True)"
   ]
  },
  {
   "cell_type": "code",
   "execution_count": 26,
   "metadata": {
    "collapsed": false
   },
   "outputs": [
    {
     "data": {
      "text/plain": [
       "[1000,\n",
       " 980,\n",
       " 811,\n",
       " 737,\n",
       " 550,\n",
       " 450,\n",
       " 330,\n",
       " 310,\n",
       " 300,\n",
       " 210,\n",
       " 200,\n",
       " 101,\n",
       " 98,\n",
       " 88,\n",
       " 87,\n",
       " 56,\n",
       " 45,\n",
       " 32,\n",
       " 32,\n",
       " 21,\n",
       " 16,\n",
       " 15]"
      ]
     },
     "execution_count": 26,
     "metadata": {},
     "output_type": "execute_result"
    }
   ],
   "source": [
    "# number list sorted from largest to smallest\n",
    "\n",
    "number_list"
   ]
  },
  {
   "cell_type": "markdown",
   "metadata": {},
   "source": [
    "Lists provide more freedom in what types of data is accepted in comparison with strings. While there could an entire series just on lists, this notebook aims to highlight the key features. In coming tutorials we will see different examples with lists involved and expand upon our knowledge learned here. In the next notebook we will be looking into the last data structure of this 3 part series: dictionaries."
   ]
  }
 ],
 "metadata": {
  "kernelspec": {
   "display_name": "Python 2",
   "language": "python",
   "name": "python2"
  },
  "language_info": {
   "codemirror_mode": {
    "name": "ipython",
    "version": 2
   },
   "file_extension": ".py",
   "mimetype": "text/x-python",
   "name": "python",
   "nbconvert_exporter": "python",
   "pygments_lexer": "ipython2",
   "version": "2.7.11"
  }
 },
 "nbformat": 4,
 "nbformat_minor": 0
}
