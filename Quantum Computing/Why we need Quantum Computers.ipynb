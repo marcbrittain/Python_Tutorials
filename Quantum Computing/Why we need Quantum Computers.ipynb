{
 "cells": [
  {
   "cell_type": "markdown",
   "metadata": {},
   "source": [
    "# Why do we need Quantum Computers?"
   ]
  },
  {
   "cell_type": "markdown",
   "metadata": {},
   "source": [
    "To provide a simple example of why we need quantum computers, I am going time integer factorization as the value of n increases. The time should increase as n increases while with a quantum computer, the time will not be effected nearly as much due to quantum parrallelism and quantum interference."
   ]
  },
  {
   "cell_type": "markdown",
   "metadata": {},
   "source": [
    "We only need to import the math module for the square root function."
   ]
  },
  {
   "cell_type": "code",
   "execution_count": 1,
   "metadata": {
    "collapsed": true
   },
   "outputs": [],
   "source": [
    "from math import sqrt"
   ]
  },
  {
   "cell_type": "code",
   "execution_count": 7,
   "metadata": {
    "collapsed": false
   },
   "outputs": [],
   "source": [
    "# we now will define our function primeFactors(n)\n",
    "def primeFactors(n):\n",
    "    \"\"\"Determines the prime factors of an interger n\n",
    "    args:\n",
    "        n (int): the input integer\n",
    "    returns: \n",
    "        a list of the prime factors of the input integer\n",
    "    \"\"\"\n",
    "    #After a short doc string it is time for the code\n",
    "    \n",
    "    pFactor, limit, i, number = [], int(sqrt(n)) + 1, 2, n \n",
    "    if n == 1: \n",
    "        return [1] \n",
    "    for i in range(2, limit): \n",
    "        while number % i == 0: \n",
    "            pFactor.append(i) \n",
    "            number /= i \n",
    "    if number > 1: \n",
    "        pFactor.append(number) \n",
    "    return pFactor "
   ]
  },
  {
   "cell_type": "markdown",
   "metadata": {},
   "source": [
    "Now that the primeFactor function is built we can test it on different values of n and time it."
   ]
  },
  {
   "cell_type": "code",
   "execution_count": 10,
   "metadata": {
    "collapsed": true
   },
   "outputs": [],
   "source": [
    "# import the timer\n",
    "from timeit import default_timer as timer"
   ]
  },
  {
   "cell_type": "code",
   "execution_count": 11,
   "metadata": {
    "collapsed": false
   },
   "outputs": [
    {
     "name": "stdout",
     "output_type": "stream",
     "text": [
      "prime factorization for 100 was 0.000131845474243\n"
     ]
    }
   ],
   "source": [
    "start = timer()\n",
    "primeFactors(100)\n",
    "end = timer()\n",
    "print 'prime factorization for '+str(100)+' was '+str(end-start)"
   ]
  },
  {
   "cell_type": "markdown",
   "metadata": {},
   "source": [
    "We can see for the value 100 it didn't take long at all. Now let's try a more interesting test and see how much this laptop can handle."
   ]
  },
  {
   "cell_type": "code",
   "execution_count": 12,
   "metadata": {
    "collapsed": false,
    "scrolled": true
   },
   "outputs": [
    {
     "name": "stdout",
     "output_type": "stream",
     "text": [
      "prime factorization for 1000000 was 0.000787019729614\n",
      "prime factorization for 2000000 was 0.000492095947266\n",
      "prime factorization for 3000000 was 0.000279188156128\n",
      "prime factorization for 4000000 was 0.000261068344116\n",
      "prime factorization for 5000000 was 0.000279903411865\n",
      "prime factorization for 6000000 was 0.000302791595459\n",
      "prime factorization for 7000000 was 0.000315189361572\n",
      "prime factorization for 8000000 was 0.000336885452271\n",
      "prime factorization for 9000000 was 0.000514030456543\n",
      "prime factorization for 10000000 was 0.000384092330933\n",
      "prime factorization for 11000000 was 0.000399112701416\n",
      "prime factorization for 12000000 was 0.000432968139648\n",
      "prime factorization for 13000000 was 0.000382900238037\n",
      "prime factorization for 14000000 was 0.000401973724365\n",
      "prime factorization for 15000000 was 0.000427007675171\n",
      "prime factorization for 16000000 was 0.000421047210693\n",
      "prime factorization for 17000000 was 0.000438928604126\n",
      "prime factorization for 18000000 was 0.000463008880615\n",
      "prime factorization for 19000000 was 0.000461101531982\n",
      "prime factorization for 20000000 was 0.000469923019409\n",
      "prime factorization for 21000000 was 0.000488042831421\n",
      "prime factorization for 22000000 was 0.000495910644531\n",
      "prime factorization for 23000000 was 0.000503063201904\n",
      "prime factorization for 24000000 was 0.000524997711182\n",
      "prime factorization for 25000000 was 0.00052285194397\n",
      "prime factorization for 26000000 was 0.00062108039856\n",
      "prime factorization for 27000000 was 0.000589847564697\n",
      "prime factorization for 28000000 was 0.000581979751587\n",
      "prime factorization for 29000000 was 0.00058388710022\n",
      "prime factorization for 30000000 was 0.000612020492554\n",
      "prime factorization for 31000000 was 0.000589847564697\n",
      "prime factorization for 32000000 was 0.000684022903442\n",
      "prime factorization for 33000000 was 0.000684976577759\n",
      "prime factorization for 34000000 was 0.000724077224731\n",
      "prime factorization for 35000000 was 0.000725030899048\n",
      "prime factorization for 36000000 was 0.000669002532959\n",
      "prime factorization for 37000000 was 0.000633955001831\n",
      "prime factorization for 38000000 was 0.000659942626953\n",
      "prime factorization for 39000000 was 0.00067400932312\n",
      "prime factorization for 40000000 was 0.000663042068481\n",
      "prime factorization for 41000000 was 0.000686883926392\n",
      "prime factorization for 42000000 was 0.00068211555481\n",
      "prime factorization for 43000000 was 0.000733852386475\n",
      "prime factorization for 44000000 was 0.000697135925293\n",
      "prime factorization for 45000000 was 0.000744819641113\n",
      "prime factorization for 46000000 was 0.000706195831299\n",
      "prime factorization for 47000000 was 0.000715970993042\n",
      "prime factorization for 48000000 was 0.000778913497925\n",
      "prime factorization for 49000000 was 0.000735998153687\n",
      "prime factorization for 50000000 was 0.000743865966797\n",
      "prime factorization for 51000000 was 0.000722885131836\n",
      "prime factorization for 52000000 was 0.000741958618164\n",
      "prime factorization for 53000000 was 0.000734806060791\n",
      "prime factorization for 54000000 was 0.000730037689209\n",
      "prime factorization for 55000000 was 0.000726938247681\n",
      "prime factorization for 56000000 was 0.000732898712158\n",
      "prime factorization for 57000000 was 0.000753164291382\n",
      "prime factorization for 58000000 was 0.00074291229248\n",
      "prime factorization for 59000000 was 0.000756025314331\n",
      "prime factorization for 60000000 was 0.000759124755859\n",
      "prime factorization for 61000000 was 0.000869035720825\n",
      "prime factorization for 62000000 was 0.000843048095703\n",
      "prime factorization for 63000000 was 0.000850915908813\n",
      "prime factorization for 64000000 was 0.000849962234497\n",
      "prime factorization for 65000000 was 0.000849008560181\n",
      "prime factorization for 66000000 was 0.000844955444336\n",
      "prime factorization for 67000000 was 0.000854015350342\n",
      "prime factorization for 68000000 was 0.000815868377686\n",
      "prime factorization for 69000000 was 0.000853061676025\n",
      "prime factorization for 70000000 was 0.000821113586426\n",
      "prime factorization for 71000000 was 0.000822067260742\n",
      "prime factorization for 72000000 was 0.000825881958008\n",
      "prime factorization for 73000000 was 0.000905990600586\n",
      "prime factorization for 74000000 was 0.000869035720825\n",
      "prime factorization for 75000000 was 0.00102591514587\n",
      "prime factorization for 76000000 was 0.00129795074463\n",
      "prime factorization for 77000000 was 0.000917911529541\n",
      "prime factorization for 78000000 was 0.000924110412598\n",
      "prime factorization for 79000000 was 0.000957012176514\n",
      "prime factorization for 80000000 was 0.000926971435547\n",
      "prime factorization for 81000000 was 0.000937938690186\n",
      "prime factorization for 82000000 was 0.000952959060669\n",
      "prime factorization for 83000000 was 0.000915050506592\n",
      "prime factorization for 84000000 was 0.000939130783081\n",
      "prime factorization for 85000000 was 0.000903844833374\n",
      "prime factorization for 86000000 was 0.000900983810425\n",
      "prime factorization for 87000000 was 0.000945091247559\n",
      "prime factorization for 88000000 was 0.00101184844971\n",
      "prime factorization for 89000000 was 0.00091814994812\n",
      "prime factorization for 90000000 was 0.000931024551392\n",
      "prime factorization for 91000000 was 0.00128698348999\n",
      "prime factorization for 92000000 was 0.00144600868225\n",
      "prime factorization for 93000000 was 0.00145792961121\n",
      "prime factorization for 94000000 was 0.00143194198608\n",
      "prime factorization for 95000000 was 0.00137901306152\n",
      "prime factorization for 96000000 was 0.00137209892273\n",
      "prime factorization for 97000000 was 0.00137186050415\n",
      "prime factorization for 98000000 was 0.00138688087463\n",
      "prime factorization for 99000000 was 0.00114679336548\n"
     ]
    }
   ],
   "source": [
    "for i in range(1000000, 100000000, 1000000):\n",
    "    start = timer()\n",
    "    primeFactors(i)\n",
    "    end = timer()\n",
    "    print 'prime factorization for '+str(i)+' was '+str(end-start)"
   ]
  },
  {
   "cell_type": "code",
   "execution_count": 14,
   "metadata": {
    "collapsed": false,
    "scrolled": true
   },
   "outputs": [
    {
     "name": "stdout",
     "output_type": "stream",
     "text": [
      "prime factorization for 1000000000000 was 0.123203992844\n",
      "prime factorization for 2000000000000 was 0.163761138916\n",
      "prime factorization for 3000000000000 was 0.204789161682\n",
      "prime factorization for 4000000000000 was 0.269155025482\n",
      "prime factorization for 5000000000000 was 0.282946109772\n",
      "prime factorization for 6000000000000 was 0.306891918182\n",
      "prime factorization for 7000000000000 was 0.31925702095\n",
      "prime factorization for 8000000000000 was 0.375944852829\n",
      "prime factorization for 9000000000000 was 0.346192836761\n",
      "prime factorization for 10000000000000 was 0.380358934402\n",
      "prime factorization for 11000000000000 was 0.373226165771\n",
      "prime factorization for 12000000000000 was 0.388598918915\n",
      "prime factorization for 13000000000000 was 0.46421289444\n",
      "prime factorization for 14000000000000 was 0.512425899506\n",
      "prime factorization for 15000000000000 was 0.467372179031\n",
      "prime factorization for 16000000000000 was 0.489830970764\n",
      "prime factorization for 17000000000000 was 0.480293035507\n",
      "prime factorization for 18000000000000 was 0.506396055222\n",
      "prime factorization for 19000000000000 was 0.578191995621\n",
      "prime factorization for 20000000000000 was 0.537708044052\n",
      "prime factorization for 21000000000000 was 0.594825983047\n",
      "prime factorization for 22000000000000 was 0.539593935013\n",
      "prime factorization for 23000000000000 was 0.561501026154\n",
      "prime factorization for 24000000000000 was 0.552399873734\n",
      "prime factorization for 25000000000000 was 0.563364028931\n",
      "prime factorization for 26000000000000 was 0.571876049042\n",
      "prime factorization for 27000000000000 was 0.670238018036\n",
      "prime factorization for 28000000000000 was 0.732946157455\n",
      "prime factorization for 29000000000000 was 0.622334957123\n",
      "prime factorization for 30000000000000 was 0.614394903183\n",
      "prime factorization for 31000000000000 was 0.628046035767\n",
      "prime factorization for 32000000000000 was 0.626224040985\n",
      "prime factorization for 33000000000000 was 0.65632390976\n",
      "prime factorization for 34000000000000 was 0.651985883713\n",
      "prime factorization for 35000000000000 was 0.652996778488\n",
      "prime factorization for 36000000000000 was 0.680305957794\n",
      "prime factorization for 37000000000000 was 0.675774097443\n",
      "prime factorization for 38000000000000 was 0.679654836655\n",
      "prime factorization for 39000000000000 was 0.698063135147\n",
      "prime factorization for 40000000000000 was 0.695163965225\n",
      "prime factorization for 41000000000000 was 0.721989154816\n",
      "prime factorization for 42000000000000 was 0.715079069138\n",
      "prime factorization for 43000000000000 was 0.747979879379\n",
      "prime factorization for 44000000000000 was 0.729938983917\n",
      "prime factorization for 45000000000000 was 0.741875886917\n",
      "prime factorization for 46000000000000 was 0.759587049484\n",
      "prime factorization for 47000000000000 was 0.76517701149\n",
      "prime factorization for 48000000000000 was 0.767193078995\n",
      "prime factorization for 49000000000000 was 0.778913974762\n",
      "prime factorization for 50000000000000 was 0.788912057877\n",
      "prime factorization for 51000000000000 was 0.788342952728\n",
      "prime factorization for 52000000000000 was 0.798357963562\n",
      "prime factorization for 53000000000000 was 0.805906057358\n",
      "prime factorization for 54000000000000 was 0.864773035049\n",
      "prime factorization for 55000000000000 was 0.952596902847\n",
      "prime factorization for 56000000000000 was 0.839231014252\n",
      "prime factorization for 57000000000000 was 1.03467392921\n",
      "prime factorization for 58000000000000 was 1.02992105484\n",
      "prime factorization for 59000000000000 was 0.91521191597\n",
      "prime factorization for 60000000000000 was 0.860050916672\n",
      "prime factorization for 61000000000000 was 0.878980875015\n",
      "prime factorization for 62000000000000 was 0.894290208817\n",
      "prime factorization for 63000000000000 was 0.895564079285\n",
      "prime factorization for 64000000000000 was 0.981771945953\n",
      "prime factorization for 65000000000000 was 0.925472021103\n",
      "prime factorization for 66000000000000 was 0.923842191696\n",
      "prime factorization for 67000000000000 was 0.915145874023\n",
      "prime factorization for 68000000000000 was 0.914980888367\n",
      "prime factorization for 69000000000000 was 0.918829917908\n",
      "prime factorization for 70000000000000 was 0.947663068771\n",
      "prime factorization for 71000000000000 was 0.970263004303\n",
      "prime factorization for 72000000000000 was 0.932036876678\n",
      "prime factorization for 73000000000000 was 0.980540037155\n",
      "prime factorization for 74000000000000 was 1.08525395393\n",
      "prime factorization for 75000000000000 was 1.10980391502\n",
      "prime factorization for 76000000000000 was 1.10685992241\n",
      "prime factorization for 77000000000000 was 1.08036708832\n",
      "prime factorization for 78000000000000 was 0.988121032715\n",
      "prime factorization for 79000000000000 was 1.03453803062\n",
      "prime factorization for 80000000000000 was 1.04560494423\n",
      "prime factorization for 81000000000000 was 1.02090597153\n",
      "prime factorization for 82000000000000 was 1.03515005112\n",
      "prime factorization for 83000000000000 was 1.03615903854\n",
      "prime factorization for 84000000000000 was 1.04619407654\n",
      "prime factorization for 85000000000000 was 1.0484559536\n",
      "prime factorization for 86000000000000 was 1.05091309547\n",
      "prime factorization for 87000000000000 was 1.05763888359\n",
      "prime factorization for 88000000000000 was 1.06385183334\n",
      "prime factorization for 89000000000000 was 1.04977488518\n",
      "prime factorization for 90000000000000 was 1.07169413567\n",
      "prime factorization for 91000000000000 was 1.06767606735\n",
      "prime factorization for 92000000000000 was 1.0689599514\n",
      "prime factorization for 93000000000000 was 1.07203292847\n",
      "prime factorization for 94000000000000 was 1.0809879303\n",
      "prime factorization for 95000000000000 was 1.10815405846\n",
      "prime factorization for 96000000000000 was 1.1056740284\n",
      "prime factorization for 97000000000000 was 1.10441088676\n",
      "prime factorization for 98000000000000 was 1.18505692482\n",
      "prime factorization for 99000000000000 was 1.34014606476\n"
     ]
    }
   ],
   "source": [
    "# Even for 1 million to 100 million it was fast. Lets keep increasing.\n",
    "\n",
    "# lets allow i to start at 1 trillion\n",
    "for i in range(1000000000000, 100000000000000, 1000000000000):\n",
    "    start = timer()\n",
    "    primeFactors(i)\n",
    "    end = timer()\n",
    "    print 'prime factorization for '+str(i)+' was '+str(end-start)"
   ]
  },
  {
   "cell_type": "code",
   "execution_count": 15,
   "metadata": {
    "collapsed": false,
    "scrolled": true
   },
   "outputs": [
    {
     "name": "stdout",
     "output_type": "stream",
     "text": [
      "prime factorization for 1000000000000000 was 3.89618802071\n",
      "prime factorization for 3000000000000000 was 6.37225103378\n",
      "prime factorization for 5000000000000000 was 8.16375303268\n",
      "prime factorization for 7000000000000000 was 9.54533004761\n",
      "prime factorization for 9000000000000000 was 10.6165390015\n",
      "prime factorization for 11000000000000000 was 11.7672381401\n",
      "prime factorization for 13000000000000000 was 13.52034688\n",
      "prime factorization for 15000000000000000 was 13.6072649956\n",
      "prime factorization for 17000000000000000 was 16.0180549622\n",
      "prime factorization for 19000000000000000 was 15.3797681332\n",
      "prime factorization for 21000000000000000 was 16.180727005\n",
      "prime factorization for 23000000000000000 was 16.7604851723\n",
      "prime factorization for 25000000000000000 was 17.4548130035\n",
      "prime factorization for 27000000000000000 was 18.2631311417\n",
      "prime factorization for 29000000000000000 was 19.1129710674\n",
      "prime factorization for 31000000000000000 was 20.0013639927\n",
      "prime factorization for 33000000000000000 was 21.0389890671\n",
      "prime factorization for 35000000000000000 was 21.9542558193\n",
      "prime factorization for 37000000000000000 was 21.3304259777\n",
      "prime factorization for 39000000000000000 was 22.6891450882\n",
      "prime factorization for 41000000000000000 was 23.4521520138\n",
      "prime factorization for 43000000000000000 was 25.0302901268\n",
      "prime factorization for 45000000000000000 was 28.4783620834\n",
      "prime factorization for 47000000000000000 was 35.5998048782\n",
      "prime factorization for 49000000000000000 was 35.0284349918\n",
      "prime factorization for 51000000000000000 was 39.2578229904\n",
      "prime factorization for 53000000000000000 was 43.6558201313\n",
      "prime factorization for 55000000000000000 was 42.974230051\n",
      "prime factorization for 57000000000000000 was 45.2094340324\n",
      "prime factorization for 59000000000000000 was 45.2407081127\n",
      "prime factorization for 61000000000000000 was 47.345733881\n",
      "prime factorization for 63000000000000000 was 49.7617821693\n",
      "prime factorization for 65000000000000000 was 53.1924419403\n",
      "prime factorization for 67000000000000000 was 52.0232701302\n",
      "prime factorization for 69000000000000000 was 54.5555069447\n",
      "prime factorization for 71000000000000000 was 56.5991499424\n",
      "prime factorization for 73000000000000000 was 55.9410588741\n",
      "prime factorization for 75000000000000000 was 57.7186980247\n",
      "prime factorization for 77000000000000000 was 57.6529791355\n",
      "prime factorization for 79000000000000000 was 58.9113481045\n",
      "prime factorization for 81000000000000000 was 62.3371148109\n",
      "prime factorization for 83000000000000000 was 60.2105457783\n",
      "prime factorization for 85000000000000000 was 63.7478768826\n",
      "prime factorization for 87000000000000000 was 61.3129920959\n",
      "prime factorization for 89000000000000000 was 63.1985940933\n",
      "prime factorization for 91000000000000000 was 63.8041579723\n",
      "prime factorization for 93000000000000000 was 65.8043780327\n",
      "prime factorization for 95000000000000000 was 71.0210618973\n",
      "prime factorization for 97000000000000000 was 64.2575697899\n",
      "prime factorization for 99000000000000000 was 67.5422399044\n"
     ]
    }
   ],
   "source": [
    "# started to see a noticable slow down in computation when n = 1 trillion\n",
    "\n",
    "# lets move up again to stress the point of why we need quantum computers\n",
    "\n",
    "for i in range(1000000000000000, 100000000000000000, 2000000000000000):\n",
    "    start = timer()\n",
    "    primeFactors(i)\n",
    "    end = timer()\n",
    "    print 'prime factorization for '+str(i)+' was '+str(end-start)"
   ]
  },
  {
   "cell_type": "markdown",
   "metadata": {},
   "source": [
    "We can see that as the value on n reached 100 quadrillion, the time increased to over a minute for each computation. This example is meant to provide some insight in the many different applications where quantum computers may be able to increase computer performace."
   ]
  },
  {
   "cell_type": "markdown",
   "metadata": {},
   "source": [
    "While this is all raw data, lets write one more piece of code to record the different integer values and the time it takes. I will use the integer values starting with 100 and multiply by 10 each time"
   ]
  },
  {
   "cell_type": "code",
   "execution_count": 22,
   "metadata": {
    "collapsed": false
   },
   "outputs": [],
   "source": [
    "integer_list = []\n",
    "time_list = []\n",
    "integer = 100\n",
    "\n",
    "while integer <= 100000000000000000:\n",
    "    #start timer\n",
    "    start = timer()\n",
    "    primeFactors(integer)\n",
    "    end = timer()\n",
    "    \n",
    "    # record the time and save it in variable time\n",
    "    time = end - start\n",
    "    \n",
    "    # append the values to the list\n",
    "    integer_list.append(integer)\n",
    "    time_list.append(time)\n",
    "    \n",
    "    #update the variable integer by multiplying by 10\n",
    "    integer = integer*10\n",
    "    "
   ]
  },
  {
   "cell_type": "markdown",
   "metadata": {},
   "source": [
    "Well we have this list of all these values, it only makes sense to see them on a graph and check the result!"
   ]
  },
  {
   "cell_type": "code",
   "execution_count": 24,
   "metadata": {
    "collapsed": true
   },
   "outputs": [],
   "source": [
    "import pandas as pd\n",
    "import matplotlib.pyplot as plt\n",
    "sns.set_context('notebook',font_scale=1.5)\n",
    "sns.set_style('ticks')\n",
    "%matplotlib inline\n",
    "\n",
    "time_df = pd.DataFrame(time_list)\n",
    "integer_df = pd.DataFrame(integer_list)\n",
    "\n",
    "time_df.rename(columns={0:'time(s)'},inplace=True)\n",
    "integer_df.rename(columns={0:'integer'},inplace=True)\n",
    "\n",
    "main = time_df.join(integer_df)\n",
    "main = main.set_index('integer')"
   ]
  },
  {
   "cell_type": "code",
   "execution_count": 33,
   "metadata": {
    "collapsed": false
   },
   "outputs": [
    {
     "data": {
      "text/plain": [
       "<matplotlib.axes._subplots.AxesSubplot at 0x109c48290>"
      ]
     },
     "execution_count": 33,
     "metadata": {},
     "output_type": "execute_result"
    },
    {
     "data": {
      "image/png": "[encoded data removed]",
      "text/plain": [
       "<matplotlib.figure.Figure at 0x109c48550>"
      ]
     },
     "metadata": {},
     "output_type": "display_data"
    }
   ],
   "source": [
    "main.plot()"
   ]
  },
  {
   "cell_type": "markdown",
   "metadata": {},
   "source": [
    "Now we can see that as the value of the integer increases, the computation time increases significantly."
   ]
  }
 ],
 "metadata": {
  "kernelspec": {
   "display_name": "Python 2",
   "language": "python",
   "name": "python2"
  },
  "language_info": {
   "codemirror_mode": {
    "name": "ipython",
    "version": 2
   },
   "file_extension": ".py",
   "mimetype": "text/x-python",
   "name": "python",
   "nbconvert_exporter": "python",
   "pygments_lexer": "ipython2",
   "version": "2.7.11"
  }
 },
 "nbformat": 4,
 "nbformat_minor": 0
}
