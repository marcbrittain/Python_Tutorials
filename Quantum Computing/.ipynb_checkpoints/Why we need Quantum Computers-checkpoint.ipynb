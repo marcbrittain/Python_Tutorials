{
 "cells": [
  {
   "cell_type": "markdown",
   "metadata": {},
   "source": [
    "# Why do we need Quantum Computers?"
   ]
  },
  {
   "cell_type": "markdown",
   "metadata": {},
   "source": [
    "To provide a simple example of why we need quantum computers, I am going time integer factorization as the value of n increases. The time should increase as n increases while with a quantum computer, the time will not be effected nearly as much due to quantum parrallelism and quantum interference."
   ]
  },
  {
   "cell_type": "markdown",
   "metadata": {},
   "source": [
    "We only need to import the math module for the square root function."
   ]
  },
  {
   "cell_type": "code",
   "execution_count": 1,
   "metadata": {
    "collapsed": true
   },
   "outputs": [],
   "source": [
    "from math import sqrt"
   ]
  },
  {
   "cell_type": "code",
   "execution_count": 2,
   "metadata": {
    "collapsed": false
   },
   "outputs": [],
   "source": [
    "# we now will define our function primeFactors(n)\n",
    "def primeFactors(n):\n",
    "    \"\"\"Determines the prime factors of an interger n\n",
    "    args:\n",
    "        n (int): the input integer\n",
    "    returns: \n",
    "        a list of the prime factors of the input integer\n",
    "    \"\"\"\n",
    "    #After a short doc string it is time for the code\n",
    "    \n",
    "    pFactor, limit, i, number = [], int(sqrt(n)) + 1, 2, n \n",
    "    if n == 1: \n",
    "        return [1] \n",
    "    for i in range(2, limit): \n",
    "        while number % i == 0: \n",
    "            pFactor.append(i) \n",
    "            number /= i \n",
    "    if number > 1: \n",
    "        pFactor.append(number) \n",
    "    return pFactor "
   ]
  },
  {
   "cell_type": "markdown",
   "metadata": {},
   "source": [
    "Now that the primeFactor function is built we can test it on different values of n and record the time."
   ]
  },
  {
   "cell_type": "code",
   "execution_count": 3,
   "metadata": {
    "collapsed": true
   },
   "outputs": [],
   "source": [
    "# import the timer\n",
    "from timeit import default_timer as timer"
   ]
  },
  {
   "cell_type": "code",
   "execution_count": 4,
   "metadata": {
    "collapsed": false
   },
   "outputs": [
    {
     "name": "stdout",
     "output_type": "stream",
     "text": [
      "prime factorization for 100 was 0.000128984451294\n"
     ]
    }
   ],
   "source": [
    "start = timer()\n",
    "primeFactors(100)\n",
    "end = timer()\n",
    "print 'prime factorization for '+str(100)+' was '+str(end-start)"
   ]
  },
  {
   "cell_type": "markdown",
   "metadata": {},
   "source": [
    "We can see for the value 100 it didn't take long at all. Now let's try a more interesting test and increase the values of n to 1 million."
   ]
  },
  {
   "cell_type": "code",
   "execution_count": 7,
   "metadata": {
    "collapsed": false,
    "scrolled": false
   },
   "outputs": [
    {
     "name": "stdout",
     "output_type": "stream",
     "text": [
      "prime factorization for 1000000 was 0.000538110733032\n",
      "prime factorization for 4000000 was 0.000583171844482\n",
      "prime factorization for 7000000 was 0.00055193901062\n",
      "prime factorization for 10000000 was 0.00037407875061\n",
      "prime factorization for 13000000 was 0.00042200088501\n",
      "prime factorization for 16000000 was 0.000517129898071\n",
      "prime factorization for 19000000 was 0.000795841217041\n",
      "prime factorization for 22000000 was 0.000976085662842\n",
      "prime factorization for 25000000 was 0.000529050827026\n",
      "prime factorization for 28000000 was 0.000554084777832\n",
      "prime factorization for 31000000 was 0.000579833984375\n",
      "prime factorization for 34000000 was 0.00060510635376\n",
      "prime factorization for 37000000 was 0.00062894821167\n",
      "prime factorization for 40000000 was 0.000656127929688\n",
      "prime factorization for 43000000 was 0.000677108764648\n",
      "prime factorization for 46000000 was 0.000702857971191\n",
      "prime factorization for 49000000 was 0.000725984573364\n",
      "prime factorization for 52000000 was 0.000929117202759\n",
      "prime factorization for 55000000 was 0.000907897949219\n",
      "prime factorization for 58000000 was 0.000818014144897\n",
      "prime factorization for 61000000 was 0.000832080841064\n",
      "prime factorization for 64000000 was 0.000853061676025\n",
      "prime factorization for 67000000 was 0.000867128372192\n",
      "prime factorization for 70000000 was 0.000864028930664\n",
      "prime factorization for 73000000 was 0.00088095664978\n",
      "prime factorization for 76000000 was 0.000899076461792\n",
      "prime factorization for 79000000 was 0.000943899154663\n",
      "prime factorization for 82000000 was 0.00104880332947\n",
      "prime factorization for 85000000 was 0.00101804733276\n",
      "prime factorization for 88000000 was 0.00103402137756\n",
      "prime factorization for 91000000 was 0.00107502937317\n",
      "prime factorization for 94000000 was 0.00103807449341\n",
      "prime factorization for 97000000 was 0.00103402137756\n",
      "prime factorization for 100000000 was 0.00103282928467\n"
     ]
    }
   ],
   "source": [
    "for i in range(1000000, 103000000, 3000000):\n",
    "    start = timer()\n",
    "    primeFactors(i)\n",
    "    end = timer()\n",
    "    print 'prime factorization for '+str(i)+' was '+str(end-start)"
   ]
  },
  {
   "cell_type": "code",
   "execution_count": 8,
   "metadata": {
    "collapsed": false,
    "scrolled": false
   },
   "outputs": [
    {
     "name": "stdout",
     "output_type": "stream",
     "text": [
      "prime factorization for 1000000000000 was 0.13160610199\n",
      "prime factorization for 4000000000000 was 0.23738694191\n",
      "prime factorization for 7000000000000 was 0.308516025543\n",
      "prime factorization for 10000000000000 was 0.398469924927\n",
      "prime factorization for 13000000000000 was 0.406715869904\n",
      "prime factorization for 16000000000000 was 0.464270114899\n",
      "prime factorization for 19000000000000 was 0.491427183151\n",
      "prime factorization for 22000000000000 was 0.52911400795\n",
      "prime factorization for 25000000000000 was 0.574341773987\n",
      "prime factorization for 28000000000000 was 0.600305080414\n",
      "prime factorization for 31000000000000 was 0.713637113571\n",
      "prime factorization for 34000000000000 was 0.827018022537\n",
      "prime factorization for 37000000000000 was 0.806875944138\n",
      "prime factorization for 40000000000000 was 0.744174003601\n",
      "prime factorization for 43000000000000 was 0.744259119034\n",
      "prime factorization for 46000000000000 was 0.758239030838\n",
      "prime factorization for 49000000000000 was 0.775532007217\n",
      "prime factorization for 52000000000000 was 0.792453050613\n",
      "prime factorization for 55000000000000 was 0.834695100784\n",
      "prime factorization for 58000000000000 was 0.897897005081\n",
      "prime factorization for 61000000000000 was 0.865993976593\n",
      "prime factorization for 64000000000000 was 0.888913869858\n",
      "prime factorization for 67000000000000 was 0.999495983124\n",
      "prime factorization for 70000000000000 was 0.94637298584\n",
      "prime factorization for 73000000000000 was 1.08669400215\n",
      "prime factorization for 76000000000000 was 1.00726795197\n",
      "prime factorization for 79000000000000 was 1.13158488274\n",
      "prime factorization for 82000000000000 was 1.15971803665\n",
      "prime factorization for 85000000000000 was 1.17531085014\n",
      "prime factorization for 88000000000000 was 1.28387999535\n",
      "prime factorization for 91000000000000 was 1.138048172\n",
      "prime factorization for 94000000000000 was 1.05956101418\n",
      "prime factorization for 97000000000000 was 1.08554601669\n",
      "prime factorization for 100000000000000 was 1.10552000999\n"
     ]
    }
   ],
   "source": [
    "# Even for 1 million to 100 million the program executed with minimum changes in performance. Lets keep increasing.\n",
    "\n",
    "# let's now allow the integer i to start at 1 trillion\n",
    "for i in range(1000000000000, 103000000000000, 3000000000000):\n",
    "    start = timer()\n",
    "    primeFactors(i)\n",
    "    end = timer()\n",
    "    print 'prime factorization for '+str(i)+' was '+str(end-start)"
   ]
  },
  {
   "cell_type": "code",
   "execution_count": 9,
   "metadata": {
    "collapsed": false,
    "scrolled": true
   },
   "outputs": [
    {
     "name": "stdout",
     "output_type": "stream",
     "text": [
      "prime factorization for 1000000000000000 was 3.66208815575\n",
      "prime factorization for 4000000000000000 was 7.18358707428\n",
      "prime factorization for 7000000000000000 was 9.37678003311\n",
      "prime factorization for 10000000000000000 was 11.095927\n",
      "prime factorization for 13000000000000000 was 13.1187429428\n",
      "prime factorization for 16000000000000000 was 13.8817670345\n",
      "prime factorization for 19000000000000000 was 15.0263459682\n",
      "prime factorization for 22000000000000000 was 16.3052151203\n",
      "prime factorization for 25000000000000000 was 17.4318809509\n",
      "prime factorization for 28000000000000000 was 18.9646878242\n",
      "prime factorization for 31000000000000000 was 19.9031550884\n",
      "prime factorization for 34000000000000000 was 21.8095979691\n",
      "prime factorization for 37000000000000000 was 22.0256769657\n",
      "prime factorization for 40000000000000000 was 23.0182318687\n",
      "prime factorization for 43000000000000000 was 27.2114970684\n",
      "prime factorization for 46000000000000000 was 32.3183410168\n",
      "prime factorization for 49000000000000000 was 37.2045888901\n",
      "prime factorization for 52000000000000000 was 39.2591459751\n",
      "prime factorization for 55000000000000000 was 41.6070230007\n",
      "prime factorization for 58000000000000000 was 42.6897239685\n",
      "prime factorization for 61000000000000000 was 43.9455878735\n",
      "prime factorization for 64000000000000000 was 48.1986761093\n",
      "prime factorization for 67000000000000000 was 49.4785709381\n",
      "prime factorization for 70000000000000000 was 53.1705091\n",
      "prime factorization for 73000000000000000 was 56.7907629013\n",
      "prime factorization for 76000000000000000 was 58.3452608585\n",
      "prime factorization for 79000000000000000 was 56.9146749973\n",
      "prime factorization for 82000000000000000 was 56.7908680439\n",
      "prime factorization for 85000000000000000 was 61.7089400291\n",
      "prime factorization for 88000000000000000 was 60.2609021664\n",
      "prime factorization for 91000000000000000 was 61.5735249519\n",
      "prime factorization for 94000000000000000 was 63.552752018\n",
      "prime factorization for 97000000000000000 was 68.6182079315\n",
      "prime factorization for 100000000000000000 was 72.3001978397\n"
     ]
    }
   ],
   "source": [
    "# started to see a noticable slow down in computation when i = 1 trillion\n",
    "\n",
    "# lets move up again to stress the point of why we need quantum computers\n",
    "\n",
    "for i in range(1000000000000000, 103000000000000000, 3000000000000000):\n",
    "    start = timer()\n",
    "    primeFactors(i)\n",
    "    end = timer()\n",
    "    print 'prime factorization for '+str(i)+' was '+str(end-start)"
   ]
  },
  {
   "cell_type": "markdown",
   "metadata": {},
   "source": [
    "We can see that as the value on n reached 100 quadrillion, the time increased to over a minute for each computation. This example is meant to provide some insight in the many different applications where quantum computers may be able to increase computer performace."
   ]
  },
  {
   "cell_type": "markdown",
   "metadata": {},
   "source": [
    "While this is all raw data, lets write one more piece of code to record the different integer values and the time it takes. I will use the integer values starting with 100 and multiply by 10 each time"
   ]
  },
  {
   "cell_type": "code",
   "execution_count": 10,
   "metadata": {
    "collapsed": false
   },
   "outputs": [],
   "source": [
    "integer_list = []\n",
    "time_list = []\n",
    "integer = 100\n",
    "\n",
    "while integer <= 100000000000000000:\n",
    "    #start timer\n",
    "    start = timer()\n",
    "    primeFactors(integer)\n",
    "    end = timer()\n",
    "    \n",
    "    # record the time and save it in variable time\n",
    "    time = end - start\n",
    "    \n",
    "    # append the values to the list\n",
    "    integer_list.append(integer)\n",
    "    time_list.append(time)\n",
    "    \n",
    "    #update the variable integer by multiplying by 10\n",
    "    integer = integer*10\n",
    "    "
   ]
  },
  {
   "cell_type": "markdown",
   "metadata": {},
   "source": [
    "Well we have this list of all these values, it only makes sense to see them on a graph and check the result!"
   ]
  },
  {
   "cell_type": "code",
   "execution_count": 12,
   "metadata": {
    "collapsed": false
   },
   "outputs": [],
   "source": [
    "import pandas as pd\n",
    "import matplotlib.pyplot as plt\n",
    "import seaborn as sns\n",
    "sns.set_context('notebook',font_scale=1.5)\n",
    "sns.set_style('ticks')\n",
    "%matplotlib inline\n",
    "\n",
    "time_df = pd.DataFrame(time_list)\n",
    "integer_df = pd.DataFrame(integer_list)\n",
    "\n",
    "time_df.rename(columns={0:'time(s)'},inplace=True)\n",
    "integer_df.rename(columns={0:'integer'},inplace=True)\n",
    "\n",
    "main = time_df.join(integer_df)\n",
    "main = main.set_index('integer')"
   ]
  },
  {
   "cell_type": "code",
   "execution_count": 13,
   "metadata": {
    "collapsed": false
   },
   "outputs": [
    {
     "data": {
      "text/plain": [
       "<matplotlib.axes._subplots.AxesSubplot at 0x10856b4d0>"
      ]
     },
     "execution_count": 13,
     "metadata": {},
     "output_type": "execute_result"
    },
    {
     "data": {
      "image/png": "[encoded data removed]",
      "text/plain": [
       "<matplotlib.figure.Figure at 0x10856b690>"
      ]
     },
     "metadata": {},
     "output_type": "display_data"
    }
   ],
   "source": [
    "main.plot()"
   ]
  },
  {
   "cell_type": "markdown",
   "metadata": {},
   "source": [
    "Now we can see that as the value of the integer increases, the computation time increases significantly."
   ]
  }
 ],
 "metadata": {
  "kernelspec": {
   "display_name": "Python 2",
   "language": "python",
   "name": "python2"
  },
  "language_info": {
   "codemirror_mode": {
    "name": "ipython",
    "version": 2
   },
   "file_extension": ".py",
   "mimetype": "text/x-python",
   "name": "python",
   "nbconvert_exporter": "python",
   "pygments_lexer": "ipython2",
   "version": "2.7.11"
  }
 },
 "nbformat": 4,
 "nbformat_minor": 0
}
